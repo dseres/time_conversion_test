{
 "cells": [
  {
   "cell_type": "code",
   "execution_count": 8,
   "metadata": {},
   "outputs": [
    {
     "name": "stdout",
     "output_type": "stream",
     "text": [
      "1 min and 34 sec:\t1.57\t1.5699999999999998\n",
      "1 min and 41 sec:\t1.68\t1.6800000000000002\n",
      "1 min and 49 sec:\t1.82\t1.8199999999999998\n",
      "1 min and 56 sec:\t1.93\t1.9300000000000002\n",
      "2 min and 17 sec:\t2.28\t2.2800000000000002\n",
      "2 min and 28 sec:\t2.47\t2.4699999999999998\n",
      "2 min and 32 sec:\t2.53\t2.5300000000000002\n",
      "2 min and 43 sec:\t2.72\t2.7199999999999998\n",
      "2 min and 47 sec:\t2.78\t2.7800000000000002\n",
      "2 min and 58 sec:\t2.97\t2.9699999999999998\n",
      "3 min and 17 sec:\t3.28\t3.2800000000000002\n",
      "3 min and 28 sec:\t3.47\t3.4699999999999998\n",
      "3 min and 32 sec:\t3.53\t3.5300000000000002\n",
      "3 min and 43 sec:\t3.72\t3.7199999999999998\n",
      "3 min and 47 sec:\t3.78\t3.7800000000000002\n",
      "3 min and 58 sec:\t3.97\t3.9699999999999998\n"
     ]
    }
   ],
   "source": [
    "for j in range(60*60*24):\n",
    "    for i in range(60):\n",
    "        f1 = float(j) + round(float(i)/60*100)/100\n",
    "        f2 = round( ( float(j) + float(i)/60) *100)/100\n",
    "        if  f1 != f2 :\n",
    "            print('{} min and {} sec:\\t{}\\t{}'.format(j,i,f2,f1))\n"
   ]
  },
  {
   "cell_type": "markdown",
   "metadata": {},
   "source": [
    "A fenti értékeknél az óra:perc:másodperc konverzió nem lesz jó. "
   ]
  }
 ],
 "metadata": {
  "kernelspec": {
   "display_name": "Python 3",
   "language": "python",
   "name": "python3"
  },
  "language_info": {
   "codemirror_mode": {
    "name": "ipython",
    "version": 3
   },
   "file_extension": ".py",
   "mimetype": "text/x-python",
   "name": "python",
   "nbconvert_exporter": "python",
   "pygments_lexer": "ipython3",
   "version": "3.7.6"
  }
 },
 "nbformat": 4,
 "nbformat_minor": 4
}
