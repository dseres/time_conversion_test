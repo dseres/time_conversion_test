{
 "cells": [
  {
   "cell_type": "markdown",
   "metadata": {},
   "source": [
    "Időintervallumok konverziója két tizedesjegy pontosságra 00.00.00-tól 23:59:59-ig. "
   ]
  },
  {
   "cell_type": "code",
   "execution_count": null,
   "metadata": {},
   "outputs": [
    {
     "name": "stdout",
     "output_type": "stream",
     "text": [
      "1 min and 34 sec:\t1.57\t1.5699999999999998\n",
      "1 min and 41 sec:\t1.68\t1.6800000000000002\n",
      "1 min and 49 sec:\t1.82\t1.8199999999999998\n",
      "1 min and 56 sec:\t1.93\t1.9300000000000002\n",
      "2 min and 17 sec:\t2.28\t2.2800000000000002\n",
      "2 min and 28 sec:\t2.47\t2.4699999999999998\n",
      "2 min and 32 sec:\t2.53\t2.5300000000000002\n",
      "2 min and 43 sec:\t2.72\t2.7199999999999998\n",
      "2 min and 47 sec:\t2.78\t2.7800000000000002\n",
      "2 min and 58 sec:\t2.97\t2.9699999999999998\n",
      "3 min and 17 sec:\t3.28\t3.2800000000000002\n",
      "3 min and 28 sec:\t3.47\t3.4699999999999998\n",
      "3 min and 32 sec:\t3.53\t3.5300000000000002\n",
      "3 min and 43 sec:\t3.72\t3.7199999999999998\n",
      "3 min and 47 sec:\t3.78\t3.7800000000000002\n",
      "3 min and 58 sec:\t3.97\t3.9699999999999998\n"
     ]
    }
   ],
   "source": [
    "for j in range(60*60*24):\n",
    "    for i in range(60):\n",
    "        f1 = float(j) + round(float(i)/60*100)/100\n",
    "        f2 = round( ( float(j) + float(i)/60) *100)/100\n",
    "        if  f1 != f2 :\n",
    "            print('{} min and {} sec:\\t{}\\t{}'.format(j,i,f2,f1))\n"
   ]
  },
  {
   "cell_type": "markdown",
   "metadata": {},
   "source": [
    "A fenti értékeknél az óra:perc:másodperc konverzió nem lesz jó.\n",
    "\n",
    "A megoldás a lebegőpontos számok reprezentációjában van. https://hu.wikipedia.org/wiki/IEEE_lebeg%C5%91pontos_sz%C3%A1mform%C3%A1tum\n",
    "\n",
    "A 0.1 -t sem tudjuk pontosan eltárolni:"
   ]
  },
  {
   "cell_type": "code",
   "execution_count": null,
   "metadata": {},
   "outputs": [],
   "source": [
    "print(\"0.1 = {0:.17f}\".format(0.1))"
   ]
  },
  {
   "cell_type": "markdown",
   "metadata": {},
   "source": [
    "Ennek magyarázata egy angol nyelvű könyvben megtalálható.\n",
    "https://github.com/jakevdp/WhirlwindTourOfPython/blob/master/05-Built-in-Scalar-Types.ipynb"
   ]
  },
  {
   "cell_type": "markdown",
   "metadata": {},
   "source": [
    "6 tizedes jeggyel való konverzió:"
   ]
  },
  {
   "cell_type": "code",
   "execution_count": 2,
   "metadata": {},
   "outputs": [
    {
     "name": "stdout",
     "output_type": "stream",
     "text": [
      "1 min and 20 sec:\t1.33333\t1.3333300000000001\n",
      "1 min and 25 sec:\t1.41667\t1.4166699999999999\n",
      "1 min and 32 sec:\t1.53333\t1.5333299999999999\n",
      "1 min and 35 sec:\t1.58333\t1.5833300000000001\n",
      "1 min and 40 sec:\t1.66667\t1.6666699999999999\n",
      "1 min and 43 sec:\t1.71667\t1.7166700000000001\n",
      "1 min and 47 sec:\t1.78333\t1.7833299999999999\n",
      "1 min and 50 sec:\t1.83333\t1.8333300000000001\n",
      "1 min and 55 sec:\t1.91667\t1.9166699999999999\n",
      "1 min and 58 sec:\t1.96667\t1.9666700000000001\n",
      "2 min and 11 sec:\t2.18333\t2.1833299999999998\n",
      "2 min and 19 sec:\t2.31667\t2.3166700000000002\n",
      "2 min and 26 sec:\t2.43333\t2.4333299999999998\n",
      "2 min and 34 sec:\t2.56667\t2.5666700000000002\n",
      "2 min and 41 sec:\t2.68333\t2.6833299999999998\n",
      "2 min and 49 sec:\t2.81667\t2.8166700000000002\n",
      "2 min and 56 sec:\t2.93333\t2.9333299999999998\n",
      "3 min and 11 sec:\t3.18333\t3.1833299999999998\n",
      "3 min and 19 sec:\t3.31667\t3.3166700000000002\n",
      "3 min and 26 sec:\t3.43333\t3.4333299999999998\n",
      "3 min and 34 sec:\t3.56667\t3.5666700000000002\n",
      "3 min and 41 sec:\t3.68333\t3.6833299999999998\n",
      "3 min and 49 sec:\t3.81667\t3.8166700000000002\n",
      "3 min and 56 sec:\t3.93333\t3.9333299999999998\n",
      "4 min and 31 sec:\t4.51667\t4.5166699999999995\n",
      "4 min and 44 sec:\t4.73333\t4.7333300000000005\n",
      "4 min and 46 sec:\t4.76667\t4.7666699999999995\n",
      "4 min and 59 sec:\t4.98333\t4.9833300000000005\n",
      "5 min and 31 sec:\t5.51667\t5.5166699999999995\n",
      "5 min and 44 sec:\t5.73333\t5.7333300000000005\n",
      "5 min and 46 sec:\t5.76667\t5.7666699999999995\n",
      "5 min and 59 sec:\t5.98333\t5.9833300000000005\n",
      "6 min and 31 sec:\t6.51667\t6.5166699999999995\n",
      "6 min and 44 sec:\t6.73333\t6.7333300000000005\n",
      "6 min and 46 sec:\t6.76667\t6.7666699999999995\n",
      "6 min and 59 sec:\t6.98333\t6.9833300000000005\n",
      "7 min and 31 sec:\t7.51667\t7.5166699999999995\n",
      "7 min and 44 sec:\t7.73333\t7.7333300000000005\n",
      "7 min and 46 sec:\t7.76667\t7.7666699999999995\n",
      "7 min and 59 sec:\t7.98333\t7.9833300000000005\n"
     ]
    }
   ],
   "source": [
    "for j in range(60*60*24):\n",
    "    for i in range(60):\n",
    "        f1 = float(j) + round(float(i)/60*100000)/100000\n",
    "        f2 = round( ( float(j) + float(i)/60) *100000)/100000\n",
    "        if  f1 != f2 :\n",
    "            print('{} min and {} sec:\\t{}\\t{}'.format(j,i,f2,f1))\n"
   ]
  },
  {
   "cell_type": "code",
   "execution_count": null,
   "metadata": {},
   "outputs": [],
   "source": []
  }
 ],
 "metadata": {
  "kernelspec": {
   "display_name": "Python 3",
   "language": "python",
   "name": "python3"
  },
  "language_info": {
   "codemirror_mode": {
    "name": "ipython",
    "version": 3
   },
   "file_extension": ".py",
   "mimetype": "text/x-python",
   "name": "python",
   "nbconvert_exporter": "python",
   "pygments_lexer": "ipython3",
   "version": "3.7.6"
  }
 },
 "nbformat": 4,
 "nbformat_minor": 4
}
